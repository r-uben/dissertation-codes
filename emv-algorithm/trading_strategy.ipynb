{
 "cells": [
  {
   "cell_type": "code",
   "execution_count": null,
   "source": [
    "### PACKAGES FOR REINFORCEMENT LEARNING\n",
    "import keras\n",
    "from keras import layers, models, optimizers\n",
    "from keras import backend as K\n",
    "from collections import namedtuple, deque\n",
    "from keras.models import Sequential\n",
    "from keras.models import load_model\n",
    "from keras.layers import Dense\n",
    "from keras.optimizers import Adam"
   ],
   "outputs": [],
   "metadata": {}
  },
  {
   "cell_type": "code",
   "execution_count": 1,
   "source": [
    "### PACKAGES/MODULES FOR DATA PROCESSING AND VISUALISATION\n",
    "import numpy as np\n",
    "import pandas as pd\n",
    "import matplotlib.pyplot as plt\n",
    "from pandas import read_csv, set_option\n",
    "import datetime\n",
    "import math\n",
    "from numpy.random import choice\n",
    "import random\n",
    "from collections import deque\n"
   ],
   "outputs": [],
   "metadata": {}
  },
  {
   "cell_type": "code",
   "execution_count": 39,
   "source": [
    "def read_real_data(name):\n",
    "    path = '/Users/rubenexojo/Library/Mobile Documents/com~apple~CloudDocs/MSc Mathematical Finance - Manchester/dissertation/dissertation-codes/data/real-data/'\n",
    "    return read_csv(path + name, index_col=0)"
   ],
   "outputs": [],
   "metadata": {}
  },
  {
   "cell_type": "code",
   "execution_count": 40,
   "source": [
    "dataset = read_real_data('IBEX_25:07:2010_25:07:2021.csv')\n",
    "dataset.shape"
   ],
   "outputs": [
    {
     "output_type": "execute_result",
     "data": {
      "text/plain": [
       "(2815, 6)"
      ]
     },
     "metadata": {},
     "execution_count": 40
    }
   ],
   "metadata": {}
  },
  {
   "cell_type": "code",
   "execution_count": 43,
   "source": [
    "set_option('display.width', 100)\n",
    "dataset.head(5)"
   ],
   "outputs": [
    {
     "output_type": "execute_result",
     "data": {
      "text/plain": [
       "                    Open          High           Low         Close     Adj Close    Volume\n",
       "Date                                                                                      \n",
       "2010-07-26  10476.700195  10512.400391  10331.000000  10506.700195  10506.689453  174600.0\n",
       "2010-07-27  10544.799805  10684.700195  10533.099609  10645.000000  10644.989258  257400.0\n",
       "2010-07-28  10712.400391  10721.799805  10595.900391  10643.900391  10643.889648  196600.0\n",
       "2010-07-29  10678.000000  10788.000000  10602.500000  10659.500000  10659.489258  217400.0\n",
       "2010-07-30  10607.799805  10638.599609  10430.299805  10499.799805  10499.789063  214600.0"
      ],
      "text/html": [
       "<div>\n",
       "<style scoped>\n",
       "    .dataframe tbody tr th:only-of-type {\n",
       "        vertical-align: middle;\n",
       "    }\n",
       "\n",
       "    .dataframe tbody tr th {\n",
       "        vertical-align: top;\n",
       "    }\n",
       "\n",
       "    .dataframe thead th {\n",
       "        text-align: right;\n",
       "    }\n",
       "</style>\n",
       "<table border=\"1\" class=\"dataframe\">\n",
       "  <thead>\n",
       "    <tr style=\"text-align: right;\">\n",
       "      <th></th>\n",
       "      <th>Open</th>\n",
       "      <th>High</th>\n",
       "      <th>Low</th>\n",
       "      <th>Close</th>\n",
       "      <th>Adj Close</th>\n",
       "      <th>Volume</th>\n",
       "    </tr>\n",
       "    <tr>\n",
       "      <th>Date</th>\n",
       "      <th></th>\n",
       "      <th></th>\n",
       "      <th></th>\n",
       "      <th></th>\n",
       "      <th></th>\n",
       "      <th></th>\n",
       "    </tr>\n",
       "  </thead>\n",
       "  <tbody>\n",
       "    <tr>\n",
       "      <th>2010-07-26</th>\n",
       "      <td>10476.700195</td>\n",
       "      <td>10512.400391</td>\n",
       "      <td>10331.000000</td>\n",
       "      <td>10506.700195</td>\n",
       "      <td>10506.689453</td>\n",
       "      <td>174600.0</td>\n",
       "    </tr>\n",
       "    <tr>\n",
       "      <th>2010-07-27</th>\n",
       "      <td>10544.799805</td>\n",
       "      <td>10684.700195</td>\n",
       "      <td>10533.099609</td>\n",
       "      <td>10645.000000</td>\n",
       "      <td>10644.989258</td>\n",
       "      <td>257400.0</td>\n",
       "    </tr>\n",
       "    <tr>\n",
       "      <th>2010-07-28</th>\n",
       "      <td>10712.400391</td>\n",
       "      <td>10721.799805</td>\n",
       "      <td>10595.900391</td>\n",
       "      <td>10643.900391</td>\n",
       "      <td>10643.889648</td>\n",
       "      <td>196600.0</td>\n",
       "    </tr>\n",
       "    <tr>\n",
       "      <th>2010-07-29</th>\n",
       "      <td>10678.000000</td>\n",
       "      <td>10788.000000</td>\n",
       "      <td>10602.500000</td>\n",
       "      <td>10659.500000</td>\n",
       "      <td>10659.489258</td>\n",
       "      <td>217400.0</td>\n",
       "    </tr>\n",
       "    <tr>\n",
       "      <th>2010-07-30</th>\n",
       "      <td>10607.799805</td>\n",
       "      <td>10638.599609</td>\n",
       "      <td>10430.299805</td>\n",
       "      <td>10499.799805</td>\n",
       "      <td>10499.789063</td>\n",
       "      <td>214600.0</td>\n",
       "    </tr>\n",
       "  </tbody>\n",
       "</table>\n",
       "</div>"
      ]
     },
     "metadata": {},
     "execution_count": 43
    }
   ],
   "metadata": {}
  },
  {
   "cell_type": "code",
   "execution_count": 42,
   "source": [
    "closing_prices  = dataset['Close'].tolist()\n",
    "plt.plot(closing_prices)"
   ],
   "outputs": [
    {
     "output_type": "execute_result",
     "data": {
      "text/plain": [
       "[<matplotlib.lines.Line2D at 0x1286cd070>]"
      ]
     },
     "metadata": {},
     "execution_count": 42
    },
    {
     "output_type": "display_data",
     "data": {
      "text/plain": [
       "<Figure size 432x288 with 1 Axes>"
      ],
      "image/png": "[encoded data removed]"
     },
     "metadata": {
      "needs_background": "light"
     }
    }
   ],
   "metadata": {}
  },
  {
   "cell_type": "code",
   "execution_count": 44,
   "source": [
    "print('Null Values =', dataset.isnull().values.any())"
   ],
   "outputs": [
    {
     "output_type": "stream",
     "name": "stdout",
     "text": [
      "Null Values = True\n"
     ]
    }
   ],
   "metadata": {}
  },
  {
   "cell_type": "code",
   "execution_count": 47,
   "source": [
    "for key in dataset.keys():\n",
    "    dataset[key] = dataset[key].fillna(dataset[key].mean())\n",
    "\n",
    "print('Null Values=', dataset.isnull().values.any())"
   ],
   "outputs": [
    {
     "output_type": "stream",
     "name": "stdout",
     "text": [
      "Null Values= False\n"
     ]
    }
   ],
   "metadata": {}
  },
  {
   "cell_type": "markdown",
   "source": [
    "We have to partition our data set into the training set and the test set. The idea is to use the test set to confirm the good performance of our final model and understand if there is any overfitting. For example, we can use the 80\\% of our data for modeling and 20\\% for testing, as suggested by Tatsat et al. (2021)."
   ],
   "metadata": {}
  },
  {
   "cell_type": "code",
   "execution_count": 49,
   "source": [
    "X = list(dataset['Close'])\n",
    "X = [float(x) for x in X]\n",
    "validation_size = 0.2\n",
    "train_size = int(len(X) * (1 - validation_size))"
   ],
   "outputs": [],
   "metadata": {}
  },
  {
   "cell_type": "markdown",
   "source": [
    "We are now ready to code our algorithm up, which in simple words just decides whether tu buy, sell or hold regarding the current market price.\n",
    "\n",
    "The algorithm evaluates which action needs to be taken to optimise our strategy based on a $Q$-value. This $Q$-value determines the value of taking an action at a certain state, and also the value of the latter. To do so, we are going to use a deep $Q$-network which uses an ANN to approximate $Q$-values. Hence, the action value function should be defined as $Q_\\theta(s,a)$m wgere $\\theta$ is a vector of weights of a multilayered DQN that maps states to actions, which must be learnt in the process when approximating the $Q$-value function. \n",
    "\n",
    "We will need many modules and functions (see Tatsat et al, 2021):\n",
    "\n",
    "1. Agent class. This holds the variables and member functions that perform the $Q$-learning.\n",
    "\n",
    "2. Helper functions.\n",
    "\n",
    "3. Training module. During traininng, the prescribed action for each day is predicted, the rewards are computed, and the deep learning-based $Q$-learning model weights are updated over a number of episodes. Additionally, the profit and loss of each action is summed to determine whether an overall profit has occurred. Aim: maximise the total profit."
   ],
   "metadata": {}
  },
  {
   "cell_type": "code",
   "execution_count": 52,
   "source": [
    "class Agent:\n",
    "\n",
    "    def __init__(self, state_size, is_eval = False, model_name = \"\"):\n",
    "        self.state_size     = state_size # normalised previous days\n",
    "        self.action_size    = 3 # hold, buy and sell\n",
    "        self.memory         = deque(maxlen=1000)\n",
    "        self.inventory      = []\n",
    "        self.model_name     = model_name\n",
    "        self.is_eval        = is_eval\n",
    "    \n",
    "        self.gamma          = 0.95\n",
    "        self.epsilon        = 1.0\n",
    "        self.epsilon_min    = 0.01\n",
    "        self.epsilon_decay  = 0.995\n",
    "\n",
    "        self.model = load_model(\"models/\" + model_name) if is_eval \\\n",
    "            else self._model()\n",
    "    \n",
    "    def _model(self):\n",
    "        model = Sequential()\n",
    "        model.add(Dense(units=64, input_dim = self.state_size, activation = \"relu\"))\n",
    "        model.add(Dense(units=32, activation=\"relu\"))\n",
    "        model.add(Dense(units=8, activation=\"relu\"))\n",
    "        model.add(Dense(self.action_size, activation=\"linear\"))\n",
    "        model.compile(loss=\"mse\", optimizer = Adam(lr=0.001))\n",
    "        return model\n",
    "    \n",
    "    def act(self, state):\n",
    "        if not self.is_eval and random.random() <= self.epsilon:\n",
    "            return random.randrange(self.action_size)\n",
    "        \n",
    "        options = self.model.predict(state)\n",
    "        return np.argmax(options[0])\n",
    "\n",
    "    def expReplay(self, batch_size):\n",
    "        mini_batch = []\n",
    "        l = len(self.memory)\n",
    "        # 1: Prepare replay memory\n",
    "        for i in range(l - batch_size + 1, l):\n",
    "            mini_batch.append(self.memory[i])\n",
    "\n",
    "        # 2: Loop across the replay memory batch\n",
    "        for state, action, reward, next_state, done in mini_batch:\n",
    "            target = reward # reward or Q at time t\n",
    "            # 3: Update the target for Q table. Table equatoin:\n",
    "            if not done:\n",
    "                target = reward + self.gamma * np.amax(self.model.predict(next_state)[0])\n",
    "            #set_trace()\n",
    "            # \n",
    "            # 4: Q-value of the state currently from the table (predict it using a deep learning model)\n",
    "            target_f = self.model.predict(state)\n",
    "            # 5: Update the output Q table for the given action in the table (the Q-value of this state for the action\n",
    "            # in the current replay is set to the target)\n",
    "            target_f[0][action] = target\n",
    "            # 6: Train and fit the model.abs (the deep learning model weigths are updated)\n",
    "            self.model.fit(state,target_f, epochs=1, verbose=0)\n",
    "\n",
    "        #7: Implement epsilon greddy algorithm (this approach selects an action randomly with a probability \n",
    "        # of ε or the best action, according to the Q-value function, with probability 1 - ε).\n",
    "        if self.epsilon > self.epsilon_min:\n",
    "            self.epsilon *= self.epsilon_decay"
   ],
   "outputs": [],
   "metadata": {}
  },
  {
   "cell_type": "code",
   "execution_count": null,
   "source": [],
   "outputs": [],
   "metadata": {}
  },
  {
   "cell_type": "code",
   "execution_count": null,
   "source": [],
   "outputs": [],
   "metadata": {}
  },
  {
   "cell_type": "code",
   "execution_count": null,
   "source": [],
   "outputs": [],
   "metadata": {}
  }
 ],
 "metadata": {
  "orig_nbformat": 4,
  "language_info": {
   "name": "python",
   "version": "3.9.5",
   "mimetype": "text/x-python",
   "codemirror_mode": {
    "name": "ipython",
    "version": 3
   },
   "pygments_lexer": "ipython3",
   "nbconvert_exporter": "python",
   "file_extension": ".py"
  },
  "kernelspec": {
   "name": "python3",
   "display_name": "Python 3.9.5 64-bit ('venv': venv)"
  },
  "interpreter": {
   "hash": "bc7ef723481e7ff5245aab5182eb714e7a5b90cc4da17982544fd91a22b15ecc"
  }
 },
 "nbformat": 4,
 "nbformat_minor": 2
}